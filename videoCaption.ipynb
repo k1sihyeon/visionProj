{
 "cells": [
  {
   "cell_type": "code",
   "execution_count": 19,
   "metadata": {},
   "outputs": [],
   "source": [
    "from bark import SAMPLE_RATE, generate_audio, preload_models\n",
    "from transformers import VisionEncoderDecoderModel, ViTImageProcessor, AutoTokenizer\n",
    "import torch\n",
    "from PIL import Image\n",
    "from scipy.io.wavfile import write as write_wav\n",
    "import moviepy.editor as mp\n",
    "import cv2\n",
    "import os\n",
    "\n",
    "model = VisionEncoderDecoderModel.from_pretrained(\"nlpconnect/vit-gpt2-image-captioning\")\n",
    "feature_extractor = ViTImageProcessor.from_pretrained(\"nlpconnect/vit-gpt2-image-captioning\")\n",
    "tokenizer = AutoTokenizer.from_pretrained(\"nlpconnect/vit-gpt2-image-captioning\")\n",
    "\n",
    "device = torch.device(\"cuda\" if torch.cuda.is_available() else \"cpu\")\n",
    "model.to(device)\n",
    "\n",
    "preload_models()"
   ]
  },
  {
   "cell_type": "code",
   "execution_count": 20,
   "metadata": {},
   "outputs": [
    {
     "name": "stdout",
     "output_type": "stream",
     "text": [
      "caption length: 7\n",
      "['horses running along the beach ', 'birds are standing on a grassy hill ', 'two polar bears laying on the beach ', 'a flock of white birds standing on top of a sandy beach ', 'a brown and white animal standing in a grassy field ', 'a small bird perched on a tree branch ', 'a large group of birds flying over a beach ']\n"
     ]
    }
   ],
   "source": [
    "\n",
    "interval = 5\n",
    "\n",
    "# 동영상 파일 경로\n",
    "video_path = \"sample.mp4\"\n",
    "cap = cv2.VideoCapture(video_path)\n",
    "\n",
    "# 프레임 추출 및 캡셔닝\n",
    "captions = []\n",
    "image_files = []\n",
    "frame_rate = int(cap.get(cv2.CAP_PROP_FPS))\n",
    "frame_interval = frame_rate * interval  # interval초마다 한 프레임씩 캡션 생성\n",
    "\n",
    "while cap.isOpened():\n",
    "    frame_id = int(cap.get(cv2.CAP_PROP_POS_FRAMES))\n",
    "    ret, frame = cap.read()\n",
    "    if not ret:\n",
    "        break\n",
    "    \n",
    "    if frame_id % frame_interval == 3:\n",
    "        image = Image.fromarray(cv2.cvtColor(frame, cv2.COLOR_BGR2RGB))\n",
    "        \n",
    "        file_name = f\"frame{frame_id}.jpg\"\n",
    "        image.save(file_name)\n",
    "        image_files.append(file_name)\n",
    "        \n",
    "        pixel_values = feature_extractor(images=image, return_tensors=\"pt\").pixel_values\n",
    "        pixel_values = pixel_values.to(device)\n",
    "        \n",
    "        generated_ids = model.generate(pixel_values)\n",
    "        generated_text = tokenizer.batch_decode(generated_ids, skip_special_tokens=True)[0]\n",
    "        \n",
    "        captions.append(generated_text)\n",
    "        \n",
    "cap.release()\n",
    "\n",
    "print(\"caption length: \" + str(len(captions)))\n",
    "print(captions)"
   ]
  },
  {
   "cell_type": "code",
   "execution_count": 25,
   "metadata": {},
   "outputs": [
    {
     "name": "stderr",
     "output_type": "stream",
     "text": [
      "100%|██████████| 178/178 [00:04<00:00, 43.48it/s]\n",
      "100%|██████████| 9/9 [00:13<00:00,  1.50s/it]\n",
      "100%|██████████| 168/168 [00:03<00:00, 43.46it/s]\n",
      "100%|██████████| 9/9 [00:12<00:00,  1.35s/it]\n",
      "100%|██████████| 185/185 [00:03<00:00, 50.49it/s]\n",
      "100%|██████████| 10/10 [00:12<00:00,  1.29s/it]\n",
      "100%|██████████| 210/210 [00:04<00:00, 46.38it/s]\n",
      "100%|██████████| 11/11 [00:14<00:00,  1.33s/it]\n",
      "100%|██████████| 242/242 [00:05<00:00, 43.99it/s]\n",
      "100%|██████████| 13/13 [00:16<00:00,  1.30s/it]\n",
      "100%|██████████| 152/152 [00:03<00:00, 45.65it/s]\n",
      "100%|██████████| 8/8 [00:10<00:00,  1.36s/it]\n",
      "100%|██████████| 201/201 [00:03<00:00, 51.35it/s]\n",
      "100%|██████████| 11/11 [00:13<00:00,  1.27s/it]\n"
     ]
    }
   ],
   "source": [
    "\n",
    "# 캡션을 각각 음성으로 변환하고 저장\n",
    "audio_files = []\n",
    "for i, caption in enumerate(captions):\n",
    "    audio_array = generate_audio(caption, history_prompt=\"v2/en_speaker_6\")\n",
    "    audio_file = f\"audio_{i}.wav\"\n",
    "    write_wav(audio_file, SAMPLE_RATE, audio_array)\n",
    "    audio_files.append(audio_file)\n"
   ]
  },
  {
   "cell_type": "code",
   "execution_count": 32,
   "metadata": {},
   "outputs": [
    {
     "name": "stdout",
     "output_type": "stream",
     "text": [
      "Moviepy - Building video final_output_video.mp4.\n",
      "MoviePy - Writing audio in final_output_videoTEMP_MPY_wvf_snd.mp3\n"
     ]
    },
    {
     "name": "stderr",
     "output_type": "stream",
     "text": [
      "                                                                    \r"
     ]
    },
    {
     "name": "stdout",
     "output_type": "stream",
     "text": [
      "MoviePy - Done.\n",
      "Moviepy - Writing video final_output_video.mp4\n",
      "\n"
     ]
    },
    {
     "name": "stderr",
     "output_type": "stream",
     "text": [
      "                                                              \r"
     ]
    },
    {
     "name": "stdout",
     "output_type": "stream",
     "text": [
      "Moviepy - Done !\n",
      "Moviepy - video ready final_output_video.mp4\n"
     ]
    }
   ],
   "source": [
    "\n",
    "# 동영상 불러오기\n",
    "video_clip = mp.VideoFileClip(video_path)\n",
    "\n",
    "# 각 캡션의 오디오 클립을 생성하고 해당 위치에 추가\n",
    "audio_clips = []\n",
    "start_time = 1\n",
    "for i, audio_file in enumerate(audio_files):\n",
    "    audio_clip = mp.AudioFileClip(audio_file)\n",
    "    time = f\"0:0:{start_time}\"\n",
    "    audio_clips.append(audio_clip.set_start(time, change_end=True))\n",
    "    start_time += (interval + 2)\n",
    "\n",
    "# 전체 오디오 클립을 결합\n",
    "final_audio = mp.concatenate_audioclips(audio_clips)\n",
    "\n",
    "# 동영상에 오디오 추가\n",
    "final_clip = video_clip.set_audio(final_audio)\n",
    "final_clip.write_videofile(\"final_output_video.mp4\", codec=\"libx264\")\n"
   ]
  },
  {
   "cell_type": "code",
   "execution_count": 33,
   "metadata": {},
   "outputs": [],
   "source": [
    "\n",
    "# # 임시 오디오 파일 삭제\n",
    "# for audio_file in audio_files:\n",
    "#     os.remove(audio_file)\n",
    "\n"
   ]
  },
  {
   "cell_type": "code",
   "execution_count": 34,
   "metadata": {},
   "outputs": [],
   "source": [
    "# for image_file in image_files:\n",
    "#     os.remove(image_file)"
   ]
  }
 ],
 "metadata": {
  "kernelspec": {
   "display_name": "Python 3",
   "language": "python",
   "name": "python3"
  },
  "language_info": {
   "codemirror_mode": {
    "name": "ipython",
    "version": 3
   },
   "file_extension": ".py",
   "mimetype": "text/x-python",
   "name": "python",
   "nbconvert_exporter": "python",
   "pygments_lexer": "ipython3",
   "version": "3.10.12"
  }
 },
 "nbformat": 4,
 "nbformat_minor": 2
}
